{
 "cells": [
  {
   "cell_type": "code",
   "execution_count": 3,
   "id": "e80626e1",
   "metadata": {},
   "outputs": [
    {
     "name": "stderr",
     "output_type": "stream",
     "text": [
      "Exception ignored in: <bound method IPythonKernel._clean_thread_parent_frames of <ipykernel.ipkernel.IPythonKernel object at 0x7d6d961ceb90>>\n",
      "Traceback (most recent call last):\n",
      "  File \"/home/diego/文档/JNU-you-beauty-common-model-program/.venv/lib/python3.10/site-packages/ipykernel/ipkernel.py\", line 775, in _clean_thread_parent_frames\n",
      "    def _clean_thread_parent_frames(\n",
      "KeyboardInterrupt: \n"
     ]
    }
   ],
   "source": [
    "import json\n",
    "import os\n",
    "import pandas as pd\n",
    "import numpy as np\n",
    "from loguru import logger\n",
    "from utils.tool import *"
   ]
  },
  {
   "cell_type": "code",
   "execution_count": 1,
   "id": "1498fd54",
   "metadata": {},
   "outputs": [],
   "source": [
    "edges_file = 'E:\\\\学习\\\\数模相关\\\\code_of_argorithm\\\\深圳杯C题\\\\edges_info.json' \n",
    "nodes_file = 'E:\\\\学习\\\\数模相关\\\\code_of_argorithm\\\\深圳杯C题\\\\nodes_info.json'"
   ]
  },
  {
   "cell_type": "code",
   "execution_count": 4,
   "id": "0fc189f7",
   "metadata": {},
   "outputs": [],
   "source": [
    "#打开文件\n",
    "with open('/home/diego/文档/JNU-you-beauty-common-model-program/深圳杯C题/data_file/edges_info.json', 'r', encoding='utf-8') as f:\n",
    "    edges_info = json.load(f)\n",
    "#因为json文件中存储的边是字符串格式的元组，所以需要将其转换为实际的元组\n",
    "edges_info = [{tuple(eval(edge)): info for edge, info in edge_dict.items()} for edge_dict in edges_info]\n",
    "\n",
    "with open('/home/diego/文档/JNU-you-beauty-common-model-program/深圳杯C题/data_file/nodes_info.json', 'r', encoding='utf-8') as f:\n",
    "    nodes_info = json.load(f)"
   ]
  },
  {
   "cell_type": "code",
   "execution_count": 6,
   "id": "15af3272",
   "metadata": {},
   "outputs": [
    {
     "data": {
      "text/plain": [
       "(23, 62)"
      ]
     },
     "execution_count": 6,
     "metadata": {},
     "output_type": "execute_result"
    }
   ],
   "source": [
    "for line in edges_info:\n",
    "    edge = list(line.keys())[0]\n",
    "edge"
   ]
  },
  {
   "cell_type": "code",
   "execution_count": null,
   "id": "8b1e598e",
   "metadata": {},
   "outputs": [
    {
     "data": {
      "text/plain": [
       "dict_keys([(1, 2)])"
      ]
     },
     "execution_count": 7,
     "metadata": {},
     "output_type": "execute_result"
    }
   ],
   "source": [
    "edges_info[0].keys()"
   ]
  },
  {
   "cell_type": "code",
   "execution_count": null,
   "id": "04080df8",
   "metadata": {},
   "outputs": [
    {
     "name": "stderr",
     "output_type": "stream",
     "text": [
      "\u001b[32m2025-05-18 20:57:03.321\u001b[0m | \u001b[1mINFO    \u001b[0m | \u001b[36mutils.tool\u001b[0m:\u001b[36m__init__\u001b[0m:\u001b[36m22\u001b[0m - \u001b[1m初始化UndirectedGraph，节点数: 62, 边数: 62\u001b[0m\n",
      "\u001b[32m2025-05-18 20:57:03.327\u001b[0m | \u001b[1mINFO    \u001b[0m | \u001b[36mutils.tool\u001b[0m:\u001b[36m_build_adjacency_list\u001b[0m:\u001b[36m30\u001b[0m - \u001b[1m构建邻接表\u001b[0m\n",
      "\u001b[32m2025-05-18 20:57:03.329\u001b[0m | \u001b[1mINFO    \u001b[0m | \u001b[36mutils.tool\u001b[0m:\u001b[36m_build_adjacency_list\u001b[0m:\u001b[36m48\u001b[0m - \u001b[1m邻接表构建完成\u001b[0m\n"
     ]
    }
   ],
   "source": [
    "graph = UndirectedGraph(nodes_info, edges_info)"
   ]
  },
  {
   "cell_type": "code",
   "execution_count": null,
   "id": "1335aecd",
   "metadata": {},
   "outputs": [],
   "source": [
    "def rprint(info:str,result) -> None:\n",
    "    \"\"\"\n",
    "    打印结果\n",
    "    :param info: 信息\n",
    "    :param result: 结果\n",
    "    :return: None\n",
    "    \"\"\"\n",
    "    logger.info(info)\n",
    "    print(result)"
   ]
  },
  {
   "cell_type": "code",
   "execution_count": null,
   "id": "56e30764",
   "metadata": {},
   "outputs": [
    {
     "name": "stderr",
     "output_type": "stream",
     "text": [
      "\u001b[32m2025-05-18 20:57:03.368\u001b[0m | \u001b[1mINFO    \u001b[0m | \u001b[36mutils.tool\u001b[0m:\u001b[36mneighbors\u001b[0m:\u001b[36m66\u001b[0m - \u001b[1m获取节点 17 的邻居: [4, 18]\u001b[0m\n",
      "\u001b[32m2025-05-18 20:57:03.372\u001b[0m | \u001b[1mINFO    \u001b[0m | \u001b[36m__main__\u001b[0m:\u001b[36mrprint\u001b[0m:\u001b[36m8\u001b[0m - \u001b[1m节点邻居:\u001b[0m\n"
     ]
    },
    {
     "name": "stdout",
     "output_type": "stream",
     "text": [
      "[4, 18]\n"
     ]
    }
   ],
   "source": [
    "rprint(\"节点邻居:\", graph.neighbors(17))"
   ]
  },
  {
   "cell_type": "code",
   "execution_count": null,
   "id": "c651c14c",
   "metadata": {},
   "outputs": [
    {
     "name": "stderr",
     "output_type": "stream",
     "text": [
      "\u001b[32m2025-05-18 20:57:03.395\u001b[0m | \u001b[1mINFO    \u001b[0m | \u001b[36mutils.tool\u001b[0m:\u001b[36mfind_nodes_by_attribute\u001b[0m:\u001b[36m275\u001b[0m - \u001b[1m查找属性 type=政府和机构 的节点: ['9', '21', '29', '36', '45', '58', '61']\u001b[0m\n",
      "\u001b[32m2025-05-18 20:57:03.399\u001b[0m | \u001b[1mINFO    \u001b[0m | \u001b[36m__main__\u001b[0m:\u001b[36mrprint\u001b[0m:\u001b[36m8\u001b[0m - \u001b[1m带有分布式发电的节点:\u001b[0m\n"
     ]
    },
    {
     "name": "stdout",
     "output_type": "stream",
     "text": [
      "['9', '21', '29', '36', '45', '58', '61']\n"
     ]
    }
   ],
   "source": [
    "rprint(\"带有分布式发电的节点:\", graph.find_nodes_by_attribute(\"type\", \"政府和机构\"))"
   ]
  },
  {
   "cell_type": "code",
   "execution_count": null,
   "id": "6036616f",
   "metadata": {},
   "outputs": [
    {
     "name": "stderr",
     "output_type": "stream",
     "text": [
      "\u001b[32m2025-05-18 20:57:03.417\u001b[0m | \u001b[1mINFO    \u001b[0m | \u001b[36mutils.tool\u001b[0m:\u001b[36mfind_edges_by_attribute\u001b[0m:\u001b[36m296\u001b[0m - \u001b[1m查找属性 type=馈线间联络线 的边: [(19, 29), (13, 43), (23, 62)]\u001b[0m\n",
      "\u001b[32m2025-05-18 20:57:03.421\u001b[0m | \u001b[1mINFO    \u001b[0m | \u001b[36m__main__\u001b[0m:\u001b[36mrprint\u001b[0m:\u001b[36m8\u001b[0m - \u001b[1m查找具有特定属性的边\u001b[0m\n"
     ]
    },
    {
     "name": "stdout",
     "output_type": "stream",
     "text": [
      "[(19, 29), (13, 43), (23, 62)]\n"
     ]
    }
   ],
   "source": [
    "rprint(\"查找具有特定属性的边\",graph.find_edges_by_attribute(\"type\", \"馈线间联络线\"))"
   ]
  },
  {
   "cell_type": "code",
   "execution_count": null,
   "id": "0aaa509a",
   "metadata": {},
   "outputs": [
    {
     "name": "stderr",
     "output_type": "stream",
     "text": [
      "\u001b[32m2025-05-18 20:57:03.446\u001b[0m | \u001b[1mINFO    \u001b[0m | \u001b[36mutils.tool\u001b[0m:\u001b[36mfind_path\u001b[0m:\u001b[36m189\u001b[0m - \u001b[1m找到路径: [49, 44, 45, 46, 47, 48]\u001b[0m\n",
      "\u001b[32m2025-05-18 20:57:03.449\u001b[0m | \u001b[1mINFO    \u001b[0m | \u001b[36m__main__\u001b[0m:\u001b[36mrprint\u001b[0m:\u001b[36m8\u001b[0m - \u001b[1m查找两个节点之间的路径\u001b[0m\n"
     ]
    },
    {
     "name": "stdout",
     "output_type": "stream",
     "text": [
      "[49, 44, 45, 46, 47, 48]\n"
     ]
    }
   ],
   "source": [
    "rprint(\"查找两个节点之间的路径\", graph.find_path(49, 48))"
   ]
  },
  {
   "cell_type": "code",
   "execution_count": null,
   "id": "97f07330",
   "metadata": {},
   "outputs": [
    {
     "name": "stderr",
     "output_type": "stream",
     "text": [
      "\u001b[32m2025-05-18 20:57:03.472\u001b[0m | \u001b[1mINFO    \u001b[0m | \u001b[36mutils.tool\u001b[0m:\u001b[36mget_all_degrees\u001b[0m:\u001b[36m714\u001b[0m - \u001b[1m获取所有节点的度\u001b[0m\n",
      "\u001b[32m2025-05-18 20:57:03.476\u001b[0m | \u001b[1mINFO    \u001b[0m | \u001b[36m__main__\u001b[0m:\u001b[36mrprint\u001b[0m:\u001b[36m8\u001b[0m - \u001b[1m获取所有节点的度数\u001b[0m\n"
     ]
    },
    {
     "name": "stdout",
     "output_type": "stream",
     "text": [
      "{'1': 0, '2': 0, '3': 0, '4': 0, '5': 0, '6': 0, '7': 0, '8': 0, '9': 0, '10': 0, '11': 0, '12': 0, '13': 0, '14': 0, '15': 0, '16': 0, '17': 0, '18': 0, '19': 0, '20': 0, '21': 0, '22': 0, '23': 0, '24': 0, '25': 0, '26': 0, '27': 0, '28': 0, '29': 0, '30': 0, '31': 0, '32': 0, '33': 0, '34': 0, '35': 0, '36': 0, '37': 0, '38': 0, '39': 0, '40': 0, '41': 0, '42': 0, '43': 0, '44': 0, '45': 0, '46': 0, '47': 0, '48': 0, '49': 0, '50': 0, '51': 0, '52': 0, '53': 0, '54': 0, '55': 0, '56': 0, '57': 0, '58': 0, '59': 0, '60': 0, '61': 0, '62': 0, 1: 1, 2: 2, 3: 3, 4: 3, 5: 3, 6: 2, 7: 2, 8: 2, 9: 2, 10: 2, 11: 2, 12: 2, 13: 2, 20: 2, 21: 2, 22: 1, 17: 2, 18: 2, 19: 2, 14: 2, 15: 2, 16: 1, 23: 2, 24: 4, 25: 3, 26: 3, 27: 2, 28: 2, 29: 2, 30: 2, 31: 2, 32: 1, 33: 2, 34: 2, 35: 1, 40: 2, 41: 2, 42: 1, 36: 2, 37: 2, 38: 2, 39: 1, 43: 3, 44: 3, 45: 3, 46: 2, 47: 2, 48: 1, 49: 2, 50: 2, 51: 2, 52: 1, 53: 2, 54: 2, 55: 1, 56: 2, 57: 3, 58: 2, 59: 1, 60: 2, 61: 2, 62: 2}\n"
     ]
    }
   ],
   "source": [
    "rprint(\"获取所有节点的度数\", graph.get_all_degrees())"
   ]
  },
  {
   "cell_type": "code",
   "execution_count": null,
   "id": "7fc2734a",
   "metadata": {},
   "outputs": [
    {
     "name": "stderr",
     "output_type": "stream",
     "text": [
      "\u001b[32m2025-05-18 20:57:03.550\u001b[0m | \u001b[1mINFO    \u001b[0m | \u001b[36mutils.tool\u001b[0m:\u001b[36mget_all_paths\u001b[0m:\u001b[36m333\u001b[0m - \u001b[1m所有路径从 1 到 5: [[1, 2, 3, 4, 5]]\u001b[0m\n",
      "\u001b[32m2025-05-18 20:57:03.555\u001b[0m | \u001b[1mINFO    \u001b[0m | \u001b[36m__main__\u001b[0m:\u001b[36mrprint\u001b[0m:\u001b[36m8\u001b[0m - \u001b[1m找出两个节点之间的所有路径\u001b[0m\n"
     ]
    },
    {
     "name": "stdout",
     "output_type": "stream",
     "text": [
      "[[1, 2, 3, 4, 5]]\n"
     ]
    }
   ],
   "source": [
    "rprint(\"找出两个节点之间的所有路径\", graph.get_all_paths(1, 5))"
   ]
  },
  {
   "cell_type": "code",
   "execution_count": null,
   "id": "3538061e",
   "metadata": {},
   "outputs": [
    {
     "name": "stderr",
     "output_type": "stream",
     "text": [
      "\u001b[32m2025-05-18 20:57:03.639\u001b[0m | \u001b[1mINFO    \u001b[0m | \u001b[36mutils.tool\u001b[0m:\u001b[36mget_attribute_summary\u001b[0m:\u001b[36m820\u001b[0m - \u001b[1m属性统计摘要: \n",
      "   attribute  count      mean       std  min     25%  median       75%     max\n",
      "0  Reactance     62  0.063900  0.078033  0.0  0.0136  0.0315  0.097350  0.3619\n",
      "1   Resistor     62  0.100634  0.120500  0.0  0.0200  0.0463  0.179725  0.5075\n",
      "2     length     62  0.750484  0.916746  0.0  0.1600  0.3700  1.140000  4.2500\u001b[0m\n",
      "\u001b[32m2025-05-18 20:57:03.641\u001b[0m | \u001b[1mINFO    \u001b[0m | \u001b[36m__main__\u001b[0m:\u001b[36mrprint\u001b[0m:\u001b[36m8\u001b[0m - \u001b[1m获取属性的统计摘要\u001b[0m\n"
     ]
    },
    {
     "name": "stdout",
     "output_type": "stream",
     "text": [
      "   attribute  count      mean       std  min     25%  median       75%     max\n",
      "0  Reactance     62  0.063900  0.078033  0.0  0.0136  0.0315  0.097350  0.3619\n",
      "1   Resistor     62  0.100634  0.120500  0.0  0.0200  0.0463  0.179725  0.5075\n",
      "2     length     62  0.750484  0.916746  0.0  0.1600  0.3700  1.140000  4.2500\n"
     ]
    }
   ],
   "source": [
    "rprint(\"获取属性的统计摘要\", graph.get_attribute_summary(\"DG\"))"
   ]
  },
  {
   "cell_type": "code",
   "execution_count": null,
   "id": "04a230fa",
   "metadata": {},
   "outputs": [
    {
     "name": "stderr",
     "output_type": "stream",
     "text": [
      "\u001b[32m2025-05-18 20:57:03.672\u001b[0m | \u001b[1mINFO    \u001b[0m | \u001b[36mutils.tool\u001b[0m:\u001b[36mget_all_degrees\u001b[0m:\u001b[36m714\u001b[0m - \u001b[1m获取所有节点的度\u001b[0m\n",
      "\u001b[32m2025-05-18 20:57:03.676\u001b[0m | \u001b[1mINFO    \u001b[0m | \u001b[36mutils.tool\u001b[0m:\u001b[36mget_average_degree\u001b[0m:\u001b[36m730\u001b[0m - \u001b[1m平均度: 1.0\u001b[0m\n",
      "\u001b[32m2025-05-18 20:57:03.679\u001b[0m | \u001b[1mINFO    \u001b[0m | \u001b[36m__main__\u001b[0m:\u001b[36mrprint\u001b[0m:\u001b[36m8\u001b[0m - \u001b[1m计算图的平均度数\u001b[0m\n"
     ]
    },
    {
     "name": "stdout",
     "output_type": "stream",
     "text": [
      "1.0\n"
     ]
    }
   ],
   "source": [
    "rprint(\"计算图的平均度数\", graph.get_average_degree())"
   ]
  },
  {
   "cell_type": "code",
   "execution_count": null,
   "id": "97562123",
   "metadata": {},
   "outputs": [
    {
     "name": "stderr",
     "output_type": "stream",
     "text": [
      "\u001b[32m2025-05-18 20:58:48.036\u001b[0m | \u001b[1mINFO    \u001b[0m | \u001b[36mutils.tool\u001b[0m:\u001b[36mget_edge\u001b[0m:\u001b[36m114\u001b[0m - \u001b[1m获取边 (1, 2) 信息: {'length': 0.025, 'type': '普通线', '分段开关': 'None', '联络开关': 'None', 'Resistor': 0.0031, 'Reactance': 0.0021}\u001b[0m\n",
      "\u001b[32m2025-05-18 20:58:48.039\u001b[0m | \u001b[1mINFO    \u001b[0m | \u001b[36m__main__\u001b[0m:\u001b[36mrprint\u001b[0m:\u001b[36m8\u001b[0m - \u001b[1m查找两个节点之间的边\u001b[0m\n"
     ]
    },
    {
     "name": "stdout",
     "output_type": "stream",
     "text": [
      "{'length': 0.025, 'type': '普通线', '分段开关': 'None', '联络开关': 'None', 'Resistor': 0.0031, 'Reactance': 0.0021}\n"
     ]
    }
   ],
   "source": [
    "rprint(\"查找两个节点之间的边\",graph.get_edge(1, 2))"
   ]
  },
  {
   "cell_type": "code",
   "execution_count": null,
   "id": "703861f4",
   "metadata": {},
   "outputs": [
    {
     "name": "stderr",
     "output_type": "stream",
     "text": [
      "\u001b[32m2025-05-18 20:57:32.302\u001b[0m | \u001b[1mINFO    \u001b[0m | \u001b[36mutils.tool\u001b[0m:\u001b[36mget_edge\u001b[0m:\u001b[36m114\u001b[0m - \u001b[1m获取边 (1, 2) 信息: {'length': 0.025, 'type': '普通线', '分段开关': 'None', '联络开关': 'None', 'Resistor': 0.0031, 'Reactance': 0.0021}\u001b[0m\n",
      "\u001b[32m2025-05-18 20:57:32.306\u001b[0m | \u001b[1mINFO    \u001b[0m | \u001b[36mutils.tool\u001b[0m:\u001b[36mget_edge_attribute\u001b[0m:\u001b[36m139\u001b[0m - \u001b[1m获取边 (1, 2) 的所有属性: {'length': 0.025, 'type': '普通线', '分段开关': 'None', '联络开关': 'None', 'Resistor': 0.0031, 'Reactance': 0.0021}\u001b[0m\n",
      "\u001b[32m2025-05-18 20:57:32.310\u001b[0m | \u001b[1mINFO    \u001b[0m | \u001b[36m__main__\u001b[0m:\u001b[36mrprint\u001b[0m:\u001b[36m8\u001b[0m - \u001b[1m获取边属性\u001b[0m\n"
     ]
    },
    {
     "name": "stdout",
     "output_type": "stream",
     "text": [
      "{'length': 0.025, 'type': '普通线', '分段开关': 'None', '联络开关': 'None', 'Resistor': 0.0031, 'Reactance': 0.0021}\n"
     ]
    }
   ],
   "source": [
    "rprint(\"获取边属性\", graph.get_edge_attribute(1, 2))"
   ]
  },
  {
   "cell_type": "code",
   "execution_count": null,
   "id": "19874ef0",
   "metadata": {},
   "outputs": [],
   "source": [
    "rprint(\"统计边特定属性的分布情况\", graph.get_edge_attribute_statistics(\"type\"))"
   ]
  },
  {
   "cell_type": "code",
   "execution_count": null,
   "id": "55fae9dc",
   "metadata": {},
   "outputs": [],
   "source": [
    "rprint(\"获取节点属性\", graph.get_node_attribute(5))"
   ]
  },
  {
   "cell_type": "code",
   "execution_count": null,
   "id": "47a2d24e",
   "metadata": {},
   "outputs": [],
   "source": [
    "rprint(\"获取节点特定属性的分布情况\", graph.get_node_attribute_statistics(\"DG\"))"
   ]
  },
  {
   "cell_type": "code",
   "execution_count": null,
   "id": "ea7e25d8",
   "metadata": {},
   "outputs": [],
   "source": [
    "rprint(\"获取节点的度\", graph.get_node_degree(1))"
   ]
  },
  {
   "cell_type": "code",
   "execution_count": null,
   "id": "0089d381",
   "metadata": {},
   "outputs": [],
   "source": [
    "rprint(\"检查两个节点之间是否有边\", graph.has_edge(1, 2))"
   ]
  },
  {
   "cell_type": "code",
   "execution_count": null,
   "id": "0b872aad",
   "metadata": {},
   "outputs": [],
   "source": [
    "rprint(\"检查两个节点之间是否连通，并返回路径\", graph.is_connected(1, 2))"
   ]
  },
  {
   "cell_type": "code",
   "execution_count": null,
   "id": "b4b1cb5e",
   "metadata": {},
   "outputs": [],
   "source": [
    "graph.plot_shortest_paths(5, [2,62,4])"
   ]
  },
  {
   "cell_type": "code",
   "execution_count": null,
   "id": "c91c7c9f",
   "metadata": {},
   "outputs": [],
   "source": [
    "graph.print_metrics_report()"
   ]
  },
  {
   "cell_type": "code",
   "execution_count": null,
   "id": "67fb5778",
   "metadata": {},
   "outputs": [],
   "source": [
    "graph.visualize()"
   ]
  },
  {
   "cell_type": "code",
   "execution_count": null,
   "id": "e07ae680",
   "metadata": {},
   "outputs": [],
   "source": [
    "graph.visualize_attribute_distribution(\"DG\")\n"
   ]
  },
  {
   "cell_type": "code",
   "execution_count": null,
   "id": "bd4f38ce",
   "metadata": {},
   "outputs": [],
   "source": [
    "graph.visualize_communities('louvain')"
   ]
  },
  {
   "cell_type": "code",
   "execution_count": null,
   "id": "eb0963c3",
   "metadata": {},
   "outputs": [],
   "source": [
    "graph.visualize_degree_distribution()"
   ]
  },
  {
   "cell_type": "code",
   "execution_count": null,
   "id": "a5b8965f",
   "metadata": {},
   "outputs": [],
   "source": [
    "graph.visualize_degree_distribution()"
   ]
  },
  {
   "cell_type": "code",
   "execution_count": null,
   "id": "630297fc",
   "metadata": {},
   "outputs": [],
   "source": [
    "graph.visualize_graph_metrics()"
   ]
  }
 ],
 "metadata": {
  "kernelspec": {
   "display_name": ".venv",
   "language": "python",
   "name": "python3"
  },
  "language_info": {
   "codemirror_mode": {
    "name": "ipython",
    "version": 3
   },
   "file_extension": ".py",
   "mimetype": "text/x-python",
   "name": "python",
   "nbconvert_exporter": "python",
   "pygments_lexer": "ipython3",
   "version": "3.10.17"
  }
 },
 "nbformat": 4,
 "nbformat_minor": 5
}
